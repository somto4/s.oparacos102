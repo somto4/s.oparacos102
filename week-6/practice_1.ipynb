{
 "cells": [
  {
   "cell_type": "code",
   "execution_count": 1,
   "metadata": {},
   "outputs": [],
   "source": [
    "import tkinter as tk\n",
    "\n",
    "# Handling button click event\n",
    "def button_click():\n",
    "    #print(\"Button clicked!\")\n",
    "\n",
    "    #show an information message box\n",
    "    msgbox.showinfo(\"info\", \"Welcome to COS 102  GUI APP!\\n)\")\n",
    "\n",
    "    #Ask for user confirmation\n",
    "    result = msbox.askyesno(\"Confirmation\", \"Do you want to continue?\")\n",
    "\n",
    "    # Create the main window\n",
    "    rootm= tk.TK()\n",
    "    root.tittle(\"Home Page\")\n",
    "    root.geomerty(\"300x100\")\n",
    "\n",
    "    # Add a lebel widget\n",
    "    label = tk.Label(root, text=\"Hello Friend \\n\")\n",
    "    label.pack()\n",
    "\n",
    "    # Add a button widget\n",
    "    button = tk.Button(root, text=\"Hello Friend \\n\")\n",
    "    label.pack()\n",
    "     \n",
    "    # Add a button widget \n",
    "    button = tk.Button(root, text=\"Click me!\", command=button_click)\n",
    "    button.pack()\n",
    "\n",
    "    # Styling the button widget\n",
    "    button.config(fg=\"red\", bg=\"yellow\")\n",
    "\n",
    "    # Start the event loop\n",
    "    root.mainloop() "
   ]
  },
  {
   "cell_type": "code",
   "execution_count": null,
   "metadata": {},
   "outputs": [
    {
     "ename": "ModuleNotFoundError",
     "evalue": "No module named 'PIL'",
     "output_type": "error",
     "traceback": [
      "\u001b[31m---------------------------------------------------------------------------\u001b[39m",
      "\u001b[31mModuleNotFoundError\u001b[39m                       Traceback (most recent call last)",
      "\u001b[36mCell\u001b[39m\u001b[36m \u001b[39m\u001b[32mIn[9]\u001b[39m\u001b[32m, line 3\u001b[39m\n\u001b[32m      1\u001b[39m \u001b[38;5;28;01mimport\u001b[39;00m\u001b[38;5;250m \u001b[39m\u001b[34;01mtkinter\u001b[39;00m\u001b[38;5;250m \u001b[39m\u001b[38;5;28;01mas\u001b[39;00m\u001b[38;5;250m \u001b[39m\u001b[34;01mtk\u001b[39;00m\n\u001b[32m      2\u001b[39m \u001b[38;5;28;01mfrom\u001b[39;00m\u001b[38;5;250m \u001b[39m\u001b[34;01mtkinter\u001b[39;00m\u001b[38;5;250m \u001b[39m\u001b[38;5;28;01mimport\u001b[39;00m messagebox\n\u001b[32m----> \u001b[39m\u001b[32m3\u001b[39m \u001b[38;5;28;01mfrom\u001b[39;00m\u001b[38;5;250m \u001b[39m\u001b[34;01mPIL\u001b[39;00m\u001b[38;5;250m \u001b[39m\u001b[38;5;28;01mimport\u001b[39;00m Image, ImageTK\n\u001b[32m      5\u001b[39m \u001b[38;5;28;01mdef\u001b[39;00m\u001b[38;5;250m \u001b[39m\u001b[34mwelcomeMessage\u001b[39m(username):\n\u001b[32m      6\u001b[39m     \u001b[38;5;66;03m# Create a Tkinter Window\u001b[39;00m\n\u001b[32m      7\u001b[39m     window = tk.Toplevel(root)\n",
      "\u001b[31mModuleNotFoundError\u001b[39m: No module named 'PIL'"
     ]
    }
   ],
   "source": [
    "import tkinter as tk\n",
    "from tkinter import messagebox\n",
    "from PIL import Image, ImageTK\n",
    "\n",
    "def welcomeMessage(username):\n",
    "    # Create a Tkinter Window\n",
    "    window = tk.Toplevel(root)\n",
    "    window.tittle(\"Admin box\")\n",
    "    window.geomerty(\"500x200\")\n",
    "\n",
    "    label_1 = tk.Label(window, text=f\"Welcome {username}\\n\")\n",
    "    label_1.pack()\n",
    "    label_2 = tk.Label(window, text=\"THis is python GUI with Tkinter\")\n",
    "    label_2.pack()\n",
    "\n",
    "    #Run the Tkinter event loop\n",
    "   root.mainloop()\n",
    "\n",
    "def submit():\n",
    "    username = username_entry.get()\n",
    "    password = password_entry.get()\n",
    "\n",
    "    if username == \"Mary\" and password == \"cos102\":\n",
    "        welcomeMessage(username)\n",
    "    else:\n",
    "        messagebox.showerror(\"Login\", \"Invalid username or password\")\n"
   ]
  },
  {
   "cell_type": "code",
   "execution_count": 11,
   "metadata": {},
   "outputs": [
    {
     "ename": "AttributeError",
     "evalue": "module 'tkinter' has no attribute 'TK'",
     "output_type": "error",
     "traceback": [
      "\u001b[31m---------------------------------------------------------------------------\u001b[39m",
      "\u001b[31mAttributeError\u001b[39m                            Traceback (most recent call last)",
      "\u001b[36mCell\u001b[39m\u001b[36m \u001b[39m\u001b[32mIn[11]\u001b[39m\u001b[32m, line 2\u001b[39m\n\u001b[32m      1\u001b[39m \u001b[38;5;66;03m# Create main window\u001b[39;00m\n\u001b[32m----> \u001b[39m\u001b[32m2\u001b[39m root = \u001b[43mtk\u001b[49m\u001b[43m.\u001b[49m\u001b[43mTK\u001b[49m()\n\u001b[32m      3\u001b[39m root.tittle(\u001b[33m\"\u001b[39m\u001b[33mLogin form\u001b[39m\u001b[33m\"\u001b[39m)\n\u001b[32m      4\u001b[39m root.geometry(\u001b[33m\"\u001b[39m\u001b[33m500x200\u001b[39m\u001b[33m\"\u001b[39m)\n",
      "\u001b[31mAttributeError\u001b[39m: module 'tkinter' has no attribute 'TK'"
     ]
    }
   ],
   "source": [
    "# Create main window\n",
    "root = tk.TK()\n",
    "root.tittle(\"Login form\")\n",
    "root.geometry(\"500x200\")\n",
    "\n",
    "# Create username label and entry\n",
    "username_label= tk.Label(root, text=\"Username:\")\n",
    "username_label.pack()\n",
    "password_entry = tk.Entry(root, show=\"*\")\n",
    "password_entry.pack()\n",
    "\n",
    "# Create submit button\n",
    "submit_button = tk.Button(root, text=\"Submit\", command=submit)\n",
    "submit_button.pack()\n",
    "\n",
    "# Run the event loop\n",
    "root.mainloop()"
   ]
  }
 ],
 "metadata": {
  "kernelspec": {
   "display_name": "Python 3",
   "language": "python",
   "name": "python3"
  },
  "language_info": {
   "codemirror_mode": {
    "name": "ipython",
    "version": 3
   },
   "file_extension": ".py",
   "mimetype": "text/x-python",
   "name": "python",
   "nbconvert_exporter": "python",
   "pygments_lexer": "ipython3",
   "version": "3.13.2"
  }
 },
 "nbformat": 4,
 "nbformat_minor": 2
}
