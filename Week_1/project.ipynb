{
 "cells": [
  {
   "cell_type": "code",
   "execution_count": 1,
   "metadata": {},
   "outputs": [
    {
     "name": "stdout",
     "output_type": "stream",
     "text": [
      "Simple Interest Amount: 1150.00\n",
      "Compound Interest Amount: 1161.47\n",
      "Annuity Plan Amount: 7750.67\n"
     ]
    }
   ],
   "source": [
    "def simple_interest(principal, rate, time):\n",
    "    \"\"\"Calculate simple interest\"\"\"\n",
    "    amount = principal * (1 + (rate / 100) * time)\n",
    "    return amount\n",
    "\n",
    "def compound_interest(principal, rate, n, time):\n",
    "    \"\"\"Calculate compound interest\"\"\"\n",
    "    amount = principal * (1 + rate / n) ** (n * time)\n",
    "    return amount\n",
    "\n",
    "def annuity_plan(payment, rate, n, time):\n",
    "    \"\"\"Calculate annuity plan\"\"\"\n",
    "    r_n = rate / n\n",
    "    amount = payment * (((1 + r_n) ** (n * time) - 1) / r_n)\n",
    "    return amount\n",
    "\n",
    "# Example usage\n",
    "P = 1000  # Principal amount\n",
    "R = 5     # Interest rate in percentage\n",
    "T = 3     # Time in years\n",
    "n = 12    # Compounded monthly\n",
    "PMT = 200 # Monthly annuity payment\n",
    "\n",
    "# Calculate results\n",
    "si_result = simple_interest(P, R, T)\n",
    "ci_result = compound_interest(P, R/100, n, T)\n",
    "annuity_result = annuity_plan(PMT, R/100, n, T)\n",
    "\n",
    "print(f\"Simple Interest Amount: {si_result:.2f}\")\n",
    "print(f\"Compound Interest Amount: {ci_result:.2f}\")\n",
    "print(f\"Annuity Plan Amount: {annuity_result:.2f}\")\n"
   ]
  }
 ],
 "metadata": {
  "kernelspec": {
   "display_name": "Python 3",
   "language": "python",
   "name": "python3"
  },
  "language_info": {
   "codemirror_mode": {
    "name": "ipython",
    "version": 3
   },
   "file_extension": ".py",
   "mimetype": "text/x-python",
   "name": "python",
   "nbconvert_exporter": "python",
   "pygments_lexer": "ipython3",
   "version": "3.13.2"
  }
 },
 "nbformat": 4,
 "nbformat_minor": 2
}
