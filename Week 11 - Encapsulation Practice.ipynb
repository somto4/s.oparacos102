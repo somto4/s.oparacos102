{
 "cells": [
  {
   "cell_type": "markdown",
   "metadata": {},
   "source": [
    "# Encapsulation in Python"
   ]
  },
  {
   "cell_type": "markdown",
   "metadata": {},
   "source": [
    "<ul><li>Encapsulation is the concept of bundling data and methods within a single unit. For example, when you create a class, it means you are implementing encapsulation. A class is an example of encapsulation as it binds all the data members (instance variables) and methods into a single unit.</li><li>\n",
    "\n",
    "Using encapsulation, we can hide an object’s internal representation from the outside. This is called information hiding.</li><li>\n",
    "\n",
    "Encapsulation allows us to restrict accessing variables and methods directly and prevent accidental data modification by creating private data members and methods within a class.</li><li>\n",
    "\n",
    "Encapsulation is a way to restrict access to methods and variables from outside of class. Whenever working with the class and dealing with sensitive data, providing access to all variables used within the class is not a good choice.</li></ul>"
   ]
  },
  {
   "cell_type": "code",
   "execution_count": null,
   "metadata": {},
   "outputs": [],
   "source": [
    "class Employee:\n",
    "    \n",
    "    # Constructor\n",
    "    def __init__(self, name, salary, project):        \n",
    "        # Instance variables\n",
    "        self.name = name\n",
    "        self.salary = salary\n",
    "        self.project = project\n",
    "\n",
    "    # Method to display employee's details\n",
    "    def show(self):        \n",
    "        # Accessing public instance variables\n",
    "        print(\"\\nName:\", self.name)\n",
    "        print(\"Salary: ₦\" + str(self.salary))\n",
    "\n",
    "    # Method to show work\n",
    "    def work(self):\n",
    "        print(self.name, \"is working on\", self.project)\n",
    "\n",
    "\n",
    "# Taking input from user\n",
    "name = input(\"Enter your name: \")\n",
    "salary = int(input(\"How much do you earn: \"))\n",
    "project = input(\"What project are you working on: \")\n",
    "\n",
    "# Creating object of the class\n",
    "emp = Employee(name, salary, project)\n",
    "\n",
    "# Calling public methods of the class\n",
    "emp.show()\n",
    "emp.work()\n"
   ]
  },
  {
   "cell_type": "markdown",
   "metadata": {},
   "source": [
    "## Access Modifiers in Python"
   ]
  },
  {
   "cell_type": "markdown",
   "metadata": {},
   "source": [
    "<ul><li>Encapsulation can be achieved by declaring the data members and methods of a class either as private or protected.</li><li> In Python, there is no direct access modifiers like public, private, and protected. </li><li>This can achieve by using single underscore and double underscores.</li></ul>\n",
    "\n",
    "Access modifiers limit access to the variables and methods of a class. Python provides three types of access modifiers private, public, and protected.\n",
    "\n",
    "<ul><li><b>Public Instance Variable:</b> Accessible anywhere from outside oclass.</li><li>\n",
    "    <b>Private Instance Variable:</b> Accessible within the class.</li><li>\n",
    "    <b>Protected Instance Variable:</b> Accessible within the class and its sub-classes.</li></ul>"
   ]
  },
  {
   "cell_type": "markdown",
   "metadata": {},
   "source": [
    "### Public Instance Variable\n",
    "Public instance variables are accessible within and outside of a class. All member variables of the class are by default public."
   ]
  },
  {
   "cell_type": "code",
   "execution_count": null,
   "metadata": {},
   "outputs": [],
   "source": [
    "class Employee:\n",
    "    \n",
    "    # Constructor\n",
    "    def __init__(self, name, salary):        \n",
    "        # Public instance variables\n",
    "        self.name = name\n",
    "        self.salary = salary\n",
    "\n",
    "    # Public instance method\n",
    "    def show(self):\n",
    "        # Accessing public instance variables\n",
    "        print(\"Name:\", self.name, \"Salary: ₦{}\".format(self.salary))\n",
    "\n",
    "\n",
    "# Creating object of the class\n",
    "emp = Employee('Abdurrahman', 500000)\n",
    "\n",
    "# Accessing public instance variables\n",
    "print(\"Name:\", emp.name, \"Salary: ₦{}\".format(emp.salary))\n",
    "\n",
    "# Calling public method of the class\n",
    "emp.show()\n"
   ]
  },
  {
   "cell_type": "markdown",
   "metadata": {},
   "source": [
    "### Private Instance Variable\n",
    "<ul><li>Protect variables in the class by marking them private. To define a private variable add two underscores as a prefix at the start of a variable name.</li><li>\n",
    "\n",
    "Private instance variables are accessible only within the class, and we can’t access them directly from the class objects.</li></ul>"
   ]
  },
  {
   "cell_type": "code",
   "execution_count": 1,
   "metadata": {},
   "outputs": [
    {
     "name": "stdout",
     "output_type": "stream",
     "text": [
      "Name: Ugochi Mbaekwe\n",
      "Salary: ₦10000\n"
     ]
    }
   ],
   "source": [
    "class Employee:\n",
    "    \n",
    "    # constructor\n",
    "    def __init__(self, name, salary):        \n",
    "        # public instance variable\n",
    "        self.name = name\n",
    "        \n",
    "        # private variable (name mangled)\n",
    "        self.__salary = salary\n",
    "\n",
    "# creating object of a class\n",
    "emp = Employee('Ugochi Mbaekwe', 10000)\n",
    "\n",
    "# accessing public instance variable\n",
    "print(\"Name:\", emp.name)\n",
    "\n",
    "# accessing private instance variable using name mangling\n",
    "print(\"Salary: ₦{}\".format(emp._Employee__salary))\n"
   ]
  },
  {
   "cell_type": "markdown",
   "metadata": {},
   "source": [
    "To access private members from outside of a class using the following two approaches\n",
    "\n",
    "<ul><li>Create public method to access private members</li><li>\n",
    "Use name mangling</li></ul>"
   ]
  },
  {
   "cell_type": "markdown",
   "metadata": {},
   "source": [
    "#### Access Private member outside of a class using an instance method"
   ]
  },
  {
   "cell_type": "code",
   "execution_count": null,
   "metadata": {},
   "outputs": [],
   "source": [
    "class Employee:\n",
    "    \n",
    "    # Constructor\n",
    "    def __init__(self, name, salary):        \n",
    "        # Public data member\n",
    "        self.name = name\n",
    "        \n",
    "        # Private member\n",
    "        self.__salary = salary\n",
    "\n",
    "    # Public instance method\n",
    "    def show(self):\n",
    "        # Private members are accessible from within the class\n",
    "        print(\"Name:\", self.name, \"\\nSalary: ₦{}\".format(self.__salary))\n",
    "\n",
    "# Creating object of the class\n",
    "emp = Employee('Chikaodi Chinaka', 250000)\n",
    "\n",
    "# Calling public method of the class\n",
    "emp.show()\n"
   ]
  },
  {
   "cell_type": "markdown",
   "metadata": {},
   "source": [
    "#### Name Mangling to access private members\n",
    "<ul><li>Private and protected variables can be directly accessed from outside of a class through name mangling.</li><li> The name mangling is created on an identifier by adding two leading underscores and one trailing underscore, like this <b>_classname__dataMember</b>, where <b><i>classname</i></b> is the current class, and data member is the private variable name.</li></ul>"
   ]
  },
  {
   "cell_type": "code",
   "execution_count": null,
   "metadata": {},
   "outputs": [],
   "source": [
    "class Employee:\n",
    "    # Constructor\n",
    "    def __init__(self, name, salary):  # use __init__, not init\n",
    "        # Public instance variable\n",
    "        self.name = name\n",
    "        \n",
    "        # Private variable (name mangling with __)\n",
    "        self.__salary = salary\n",
    "\n",
    "# Creating object of the class\n",
    "emp = Employee('Oyindamola Apampa', 900000)\n",
    "\n",
    "# Direct access to public instance variable\n",
    "print('Name:', emp.name)  # corrected from __name to name\n",
    "\n",
    "# Direct access to private instance variable using name mangling\n",
    "print('Salary:', \"N\" + str(emp._Employee__salary))\n"
   ]
  },
  {
   "cell_type": "markdown",
   "metadata": {},
   "source": [
    "### Protected Instance Variable\n",
    "<ul><li>Protected instance variables are accessible within the class and also available to its sub-classes. </li><li>To define a protected variable, prefix the variable name with a single underscore <b>_</b>.</li><li>\n",
    "\n",
    "Protected instance variables are used when you implement inheritance and want to allow data members access to only child classes.</li></ul>"
   ]
  },
  {
   "cell_type": "code",
   "execution_count": null,
   "metadata": {},
   "outputs": [],
   "source": [
    "# Base class\n",
    "class Company:\n",
    "    # Base constructor\n",
    "    def __init__(self):\n",
    "        # Protected instance variable\n",
    "        self._project = \"Blockchain Development\"\n",
    "\n",
    "# Child class\n",
    "class Employee(Company):\n",
    "    # Child constructor\n",
    "    def __init__(self, name):\n",
    "        self.name = name\n",
    "        \n",
    "        # Invoke base constructor\n",
    "        Company.__init__(self)\n",
    "\n",
    "    def show(self):\n",
    "        print(\"Employee name:\", self.name)\n",
    "        \n",
    "        # Accessing protected instance variable in child class\n",
    "        print(\"Working on project:\", self._project)\n",
    "\n",
    "# Creating object of the class\n",
    "c = Employee(\"Prince Ibekwe\")\n",
    "\n",
    "# Calling method\n",
    "c.show()\n",
    "\n",
    "# Direct access to protected instance variable\n",
    "print(\"Project:\", c._project)\n"
   ]
  },
  {
   "cell_type": "markdown",
   "metadata": {},
   "source": [
    "## Getters and Setters in Python\n",
    "<ul><li>To implement proper encapsulation in Python, setters and getters can be used.</li><li> The primary purpose of using getters and setters in object-oriented programs is to ensure data encapsulation.</li><li> Use the getter method to access instance variables and the setter methods to modify the instance variables.</li></ul>\n",
    "\n",
    "In Python, private variables are not hidden fields like in other programming languages. The getters and setters methods are often used when:\n",
    "\n",
    "<ul><li>When we want to avoid direct access to private variables</li><li>\n",
    "To add validation logic for setting a value</li></ul>"
   ]
  },
  {
   "cell_type": "code",
   "execution_count": null,
   "metadata": {},
   "outputs": [],
   "source": [
    "class Student:\n",
    "    def __init__(self, name, age):\n",
    "        # Public instance variable\n",
    "        self.name = name\n",
    "        # Private instance variable\n",
    "        self.__age = age\n",
    "\n",
    "    # Getter method\n",
    "    def get_age(self):\n",
    "        return self.__age\n",
    "\n",
    "    # Setter method\n",
    "    def set_age(self, age):\n",
    "        self.__age = age\n",
    "\n",
    "# Create object (Removed 'Male' from arguments — constructor only accepts name and age)\n",
    "stud = Student('Michael Illoba', 34)\n",
    "\n",
    "# Retrieving age using getter\n",
    "print('Name:', stud.name, \"\\nAge:\", stud.get_age())\n",
    "\n",
    "# Changing age using setter\n",
    "stud.set_age(26)\n",
    "\n",
    "# Retrieving updated age using getter\n",
    "print('\\nName:', stud.name, \"\\nAge:\", stud.get_age())\n"
   ]
  },
  {
   "cell_type": "code",
   "execution_count": null,
   "metadata": {},
   "outputs": [],
   "source": [
    "cclass Student:\n",
    "    # Constructor\n",
    "    def __init__(self, name, roll_no, age):\n",
    "        # Public instance variable\n",
    "        self.name = name\n",
    "        # Private instance variables\n",
    "        self.__roll_no = roll_no\n",
    "        self.__age = age\n",
    "\n",
    "    def show(self):\n",
    "        print('Student Details:', self.name, self.__roll_no)\n",
    "\n",
    "    # Getter method\n",
    "    def get_roll_no(self):\n",
    "        return self.__roll_no\n",
    "\n",
    "    # Setter method with validation\n",
    "    def set_roll_no(self, number):\n",
    "        if number > 50:\n",
    "            print('Invalid roll no. Please set correct roll number')\n",
    "        else:\n",
    "            self.__roll_no = number\n",
    "\n",
    "# Object instantiation\n",
    "info = Student('David Usim', 10, 15)\n",
    "\n",
    "# Before modifying roll number\n",
    "info.show()\n",
    "\n",
    "# Trying to change roll number using setter (only pass the number)\n",
    "info.set_roll_no(120)\n",
    "\n",
    "# After attempting invalid change\n",
    "info.show()\n",
    "\n",
    "# Trying a valid update\n",
    "info.set_roll_no(30)\n",
    "\n",
    "# After successful change\n",
    "info.show()\n",
    "\n",
    "\n",
    "\n",
    "info.set_roll_no(25)\n",
    "info.shows()"
   ]
  },
  {
   "cell_type": "markdown",
   "metadata": {},
   "source": [
    "## Class Project I "
   ]
  },
  {
   "cell_type": "markdown",
   "metadata": {},
   "source": [
    "You have been contracted by the Registrar of Pan-Atlantic University (PAU) as an expert OOP developer to access the Student Information System (SIS) of PAU Student Council, inorder to classify the students grades, according to their age, into 3 categories; the pirates, the yankees and the bulls.\n",
    "\n",
    "Should you choose to accept this task, develop an OOP program that reads data from the SIS.csv file as attached, following the instructions below: \n",
    "\n",
    "<b>Instructions:</b>\n",
    "    <ul><li>If the student age is greater than 14 and less than 18, create a .csv file for that category called <b>The_Pirates</b> and display it.</li><li>\n",
    "    If the student age is greater than 18 and less than 22, create a file for that category called <b>The_Yankees</b> and display it.</li><li>\n",
    "    If the student age is greater than 22 and less than 25 create a file for that category called <b>The_Bulls</b> and display it.</li><li>\n",
    "    If the student age is greater than 25 <b>encapsulate the request</b> and use a getter method to return an error message\".</li></ul>\n"
   ]
  },
  {
   "cell_type": "code",
   "execution_count": null,
   "metadata": {},
   "outputs": [],
   "source": [
    "import csv\n",
    "import pandas as pd\n",
    "\n",
    "class Student:\n",
    "    def __init__(self, name, age, grade, department):\n",
    "        self.name = name\n",
    "        self.age = int(age)\n",
    "        self.grade = grade\n",
    "        self.department = department\n",
    "        self.__error_message = \"\"\n",
    "\n",
    "    def get_error(self):\n",
    "        return self.__error_message\n",
    "\n",
    "    def categorize(self):\n",
    "        if 14 < self.age < 18:\n",
    "            return \"The_Pirates.csv\"\n",
    "        elif 18 < self.age < 22:\n",
    "            return \"The_Yankees.csv\"\n",
    "        elif 22 < self.age < 25:\n",
    "            return \"The_Bulls.csv\"\n",
    "        elif self.age > 25:\n",
    "            self.__error_message = f\"Student {self.name} is above age limit. Cannot categorize.\"\n",
    "            return None\n",
    "        else:\n",
    "            self.__error_message = f\"Student {self.name} does not fall in any defined age group.\"\n",
    "            return None\n",
    "\n",
    "class StudentProcessor:\n",
    "    def __init__(self, filepath):\n",
    "        self.filepath = filepath\n",
    "        self.students = []\n",
    "        self.categories = {\n",
    "            \"The_Pirates.csv\": [],\n",
    "            \"The_Yankees.csv\": [],\n",
    "            \"The_Bulls.csv\": []\n",
    "        }\n",
    "        self.unclassified = []\n",
    "\n",
    "    def load_students(self):\n",
    "        with open(self.filepath, newline='', encoding='utf-8') as csvfile:\n",
    "            reader = csv.DictReader(csvfile)\n",
    "            for row in reader:\n",
    "                student = Student(row['Name'], row['Age'], row['Grade'], row['Department'])\n",
    "                self.students.append(student)\n",
    "\n",
    "    def process_students(self):\n",
    "        for student in self.students:\n",
    "            category = student.categorize()\n",
    "            if category:\n",
    "                self.categories[category].append(student)\n",
    "            else:\n",
    "                self.unclassified.append(student)\n",
    "\n",
    "    def save_categories(self):\n",
    "        for filename, students in self.categories.items():\n",
    "            with open(filename, 'w', newline='', encoding='utf-8') as f:\n",
    "                writer = csv.writer(f)\n",
    "                writer.writerow([\"Name\", \"Age\", \"Grade\", \"Department\"])\n",
    "                for s in students:\n",
    "                    writer.writerow([s.name, s.age, s.grade, s.department])\n",
    "\n",
    "    def display_results(self):\n",
    "        for filename in self.categories:\n",
    "            print(f\"\\n--- {filename.replace('.csv', '')} ---\")\n",
    "            df = pd.read_csv(filename)\n",
    "            print(df)\n",
    "\n",
    "        if self.unclassified:\n",
    "            print(\"\\n--- Unclassified Students ---\")\n",
    "            for student in self.unclassified:\n",
    "                print(student.get_error())\n",
    "\n",
    "# Driver code\n",
    "if __name__ == \"__main__\":\n",
    "    processor = StudentProcessor(\"SIS.csv\")\n",
    "    processor.load_students()\n",
    "    processor.process_students()\n",
    "    processor.save_categories()\n",
    "    processor.display_results()\n"
   ]
  },
  {
   "cell_type": "code",
   "execution_count": null,
   "metadata": {},
   "outputs": [],
   "source": []
  }
 ],
 "metadata": {
  "kernelspec": {
   "display_name": "Python 3",
   "language": "python",
   "name": "python3"
  },
  "language_info": {
   "codemirror_mode": {
    "name": "ipython",
    "version": 3
   },
   "file_extension": ".py",
   "mimetype": "text/x-python",
   "name": "python",
   "nbconvert_exporter": "python",
   "pygments_lexer": "ipython3",
   "version": "3.13.2"
  }
 },
 "nbformat": 4,
 "nbformat_minor": 4
}
