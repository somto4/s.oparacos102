{
 "cells": [
  {
   "cell_type": "markdown",
   "metadata": {},
   "source": [
    "# Inheritance in Python"
   ]
  },
  {
   "cell_type": "markdown",
   "metadata": {},
   "source": [
    "Inheritance is the capability of one class to derive or inherit the properties from another class. The benefits of inheritance are: \n",
    " \n",
    "<ol><li>\n",
    "It represents real-world relationships well.</li><li>\n",
    "It provides reusability of a code, so that you don’t have to write the same code again and again. </li><li>It allows for adding more features to a class without modifying it.</li><li>\n",
    "It is transitive in nature, which means that if class B inherits from another class A, then all the subclasses of B would automatically inherit from class A.</li><ol>"
   ]
  },
  {
   "cell_type": "markdown",
   "metadata": {},
   "source": [
    "### A Python program to demonstrate inheritance"
   ]
  },
  {
   "cell_type": "code",
   "execution_count": null,
   "metadata": {},
   "outputs": [
    {
     "ename": "NameError",
     "evalue": "name 'Persons' is not defined",
     "output_type": "error",
     "traceback": [
      "\u001b[31m---------------------------------------------------------------------------\u001b[39m",
      "\u001b[31mNameError\u001b[39m                                 Traceback (most recent call last)",
      "\u001b[36mCell\u001b[39m\u001b[36m \u001b[39m\u001b[32mIn[1]\u001b[39m\u001b[32m, line 24\u001b[39m\n\u001b[32m     21\u001b[39m         \u001b[38;5;28;01mreturn\u001b[39;00m \u001b[38;5;28;01mTrue\u001b[39;00m\n\u001b[32m     23\u001b[39m \u001b[38;5;66;03m# Object Instantiation\u001b[39;00m\n\u001b[32m---> \u001b[39m\u001b[32m24\u001b[39m emp = \u001b[43mPersons\u001b[49m(\u001b[33m\"\u001b[39m\u001b[33mSegun Da-Silver\u001b[39m\u001b[33m\"\u001b[39m, \u001b[32m23\u001b[39m) \u001b[38;5;66;03m# An Object of Person\u001b[39;00m\n\u001b[32m     25\u001b[39m \u001b[38;5;28mprint\u001b[39m(emp.getName(), emp_.isEmployee())\n\u001b[32m     27\u001b[39m emp = Employee(\u001b[33m\"\u001b[39m\u001b[33mOmotayo Ayeni\u001b[39m\u001b[33m\"\u001b[39m, \u001b[32m55\u001b[39m, \u001b[33m\"\u001b[39m\u001b[33mblack\u001b[39m\u001b[33m\"\u001b[39m) \u001b[38;5;66;03m# An Object of Employee\u001b[39;00m\n",
      "\u001b[31mNameError\u001b[39m: name 'Persons' is not defined"
     ]
    }
   ],
   "source": [
    "class Person(object):\n",
    "    # Constructor\n",
    "    def __init__(self, name):\n",
    "        self.name = name\n",
    "\n",
    "    # To get name method\n",
    "    def getname(self):\n",
    "        return self.name\n",
    "\n",
    "    # To check if this person is an employee\n",
    "    def isEmployee(self):\n",
    "        return False\n",
    "    \n",
    "\n",
    "# Inherited or Subclass\n",
    "class Employee(Person):\n",
    "    # Constructor extended with additional attributes\n",
    "    def __init__(self, name, age=None, color=None):\n",
    "        super().__init__(name)\n",
    "        self.age = age\n",
    "        self.color = color\n",
    "\n",
    "    # Override method\n",
    "    def isEmployee(self):\n",
    "        return True\n",
    "\n",
    "# Object Instantiation\n",
    "emp = Person(\"Segun Da-Silver\")  # An object of Person\n",
    "print(emp.getname(), emp.isEmployee())\n",
    "\n",
    "emp = Employee(\"Omotayo Ayeni\", 55, \"black\")  # An object of Employee\n",
    "print(emp.getname(), emp.isEmployee())\n",
    "\n"
   ]
  },
  {
   "cell_type": "markdown",
   "metadata": {},
   "source": [
    "### What is object class? \n",
    "In Python (from version 3.x), object is root of all classes. \n",
    "In Python 3.x, <b>“class Test(object)”</b> and <b>“class Test”</b> are same. \n",
    "\n",
    "### Subclassing (Calling constructor of parent class) \n",
    "<ul><li>A child class needs to identify which class is its parent class.</li><li> This can be done by mentioning the parent class name in the definition of the child class. \n",
    "Eg: class subclass_name (superclass_name): </li></ul>"
   ]
  },
  {
   "cell_type": "code",
   "execution_count": null,
   "metadata": {},
   "outputs": [],
   "source": [
    "# Python code to demonstrate how parent constructors are called.\n",
    "\n",
    "# Parent class\n",
    "class Person(object):\n",
    "    def __init__(self, name, idnumber):\n",
    "        self.name = name\n",
    "        self.idnumber = idnumber\n",
    "\n",
    "    def display(self):\n",
    "        print(\"Name:\", self.name)\n",
    "        print(\"ID No.:\", self.idnumber)\n",
    "\n",
    "# Child class\n",
    "class Employee(Person):\n",
    "    def __init__(self, name, idnumber, salary, post, age):\n",
    "        # Call parent constructor first\n",
    "        super().__init__(name, idnumber)\n",
    "\n",
    "        # Then add child class properties\n",
    "        self.salary = salary\n",
    "        self.post = post\n",
    "        self.age = age\n",
    "\n",
    "    # Override display to include employee details\n",
    "    def display(self):\n",
    "        super().display()\n",
    "        print(\"Salary:\", self.salary)\n",
    "        print(\"Post:\", self.post)\n",
    "        print(\"Age:\", self.age)\n",
    "\n",
    "# Object creation\n",
    "a = Employee('Adedoyin Adeniji', 886012, 200000, \"Intern\", 23)\n",
    "\n",
    "# Calling display function\n",
    "a.display()\n"
   ]
  },
  {
   "cell_type": "markdown",
   "metadata": {},
   "source": [
    "### Note that:\n",
    "<ul><li>In Python, every class inherits from a built-in basic class called ‘object’. The constructor i.e. the ‘__init__’ function of a class is invoked when we create an object variable or an instance of the class.</li><li>\n",
    "The variables defined within __init__() are called as the instance variables or objects. Hence, ‘name’ and ‘idnumber’ are the objects of the class Person. Similarly, ‘salary’ and ‘post’ are the objects of the class Employee.</li><li> Since the class Employee inherits from class Person, ‘name’ and ‘idnumber’ are also the objects of class Employee.</li><li>\n",
    "If you forget to invoke the __init__() of the parent class then its instance variables would not be available to the child class. </li></ul>"
   ]
  },
  {
   "cell_type": "code",
   "execution_count": 2,
   "metadata": {},
   "outputs": [
    {
     "name": "stdout",
     "output_type": "stream",
     "text": [
      "Emmanuel Abbah\n"
     ]
    }
   ],
   "source": [
    "# Corrected Python program to show proper use of parent __init__()\n",
    "\n",
    "class A:\n",
    "    def __init__(self, n='Emmanuel Abbah'):\n",
    "        self.name = n\n",
    "\n",
    "class B(A):\n",
    "    def __init__(self, roll):\n",
    "        # Call parent class constructor to initialize 'name'\n",
    "        super().__init__()  # uses default name\n",
    "        self.roll = roll\n",
    "\n",
    "# Object Instance\n",
    "project = B(23)\n",
    "print(project.name)  # Output: Emmanuel Abbah\n"
   ]
  },
  {
   "cell_type": "markdown",
   "metadata": {},
   "source": [
    "## Types of Inheritance in Python\n",
    "There are four types of inheritance in Python. The type of Inheritance depends upon the number of child and parent classes involved. : \n",
    "\n",
    "#### Single Inheritance:\n",
    "<ul><li> Single inheritance enables a derived class to inherit properties from a single parent class, thus enabling code reusability and the addition of new features to existing code.</li></ul>"
   ]
  },
  {
   "cell_type": "code",
   "execution_count": 3,
   "metadata": {},
   "outputs": [
    {
     "name": "stdout",
     "output_type": "stream",
     "text": [
      "This function is in parent class.\n",
      "This function is in child class.\n"
     ]
    }
   ],
   "source": [
    "# Python program to demonstrate single inheritance\n",
    "\n",
    "# Base class\n",
    "class Parent: \n",
    "    def func1(self):\n",
    "        print(\"This function is in parent class.\")\n",
    "\n",
    "# Derived class\n",
    "class Child(Parent):\n",
    "    def func2(self):\n",
    "        print(\"This function is in child class.\")\n",
    "\n",
    "# Object instance\n",
    "obj = Child()\n",
    "obj.func1()  # Inherited from Parent\n",
    "obj.func2()  # Defined in Child\n"
   ]
  },
  {
   "cell_type": "markdown",
   "metadata": {},
   "source": [
    "#### Multiple Inheritance:\n",
    "<ul><li>When a class can be derived from more than one base class this type of inheritance is called multiple inheritance. </li><li>In multiple inheritance, all the features of the base classes are inherited into the derived class. </li></ul>\n",
    " "
   ]
  },
  {
   "cell_type": "code",
   "execution_count": 4,
   "metadata": {},
   "outputs": [
    {
     "name": "stdout",
     "output_type": "stream",
     "text": [
      "Father: Paul Abiodun\n",
      "Mother: Caroline Aina\n"
     ]
    }
   ],
   "source": [
    "# Python program to demonstrate multiple inheritance\n",
    "\n",
    "# Base class 1\n",
    "class Mother: \n",
    "    motherName = \"Caroline Aina\"\n",
    "    \n",
    "    def mother(self):\n",
    "        print(\"Mother name:\", self.motherName)\n",
    "\n",
    "# Base class 2\n",
    "class Father:\n",
    "    fatherName = \"Paul Abiodun\"\n",
    "    \n",
    "    def father(self):\n",
    "        print(\"Father name:\", self.fatherName)\n",
    "\n",
    "# Derived class\n",
    "class Son(Mother, Father):\n",
    "    def parents(self):\n",
    "        print(\"Father:\", self.fatherName)\n",
    "        print(\"Mother:\", self.motherName)\n",
    "\n",
    "# Object instance\n",
    "s1 = Son()\n",
    "s1.parents()\n"
   ]
  },
  {
   "cell_type": "markdown",
   "metadata": {},
   "source": [
    "#### Multilevel Inheritance\n",
    "<ul><li>In multilevel inheritance, features of the base class and the derived class are further inherited into the new derived class.</li><li> This is similar to a relationship representing a child and grandfather.</li></ul> "
   ]
  },
  {
   "cell_type": "code",
   "execution_count": 5,
   "metadata": {},
   "outputs": [
    {
     "name": "stdout",
     "output_type": "stream",
     "text": [
      "Grandfather name: Adeoke\n",
      "Father name: Abiodun\n",
      "Son name: Gbenga\n"
     ]
    }
   ],
   "source": [
    "# Python program to demonstrate multilevel inheritance\n",
    "\n",
    "# Base class\n",
    "class Grandfather:\n",
    "    def __init__(self, grandfathername):\n",
    "        self.grandfathername = grandfathername\n",
    "\n",
    "# Intermediate class\n",
    "class Father(Grandfather):\n",
    "    def __init__(self, fathername, grandfathername):\n",
    "        super().__init__(grandfathername)  # Call Grandfather's constructor\n",
    "        self.fathername = fathername\n",
    "\n",
    "# Derived class\n",
    "class Son(Father):\n",
    "    def __init__(self, sonname, fathername, grandfathername):\n",
    "        super().__init__(fathername, grandfathername)  # Call Father's constructor\n",
    "        self.sonname = sonname\n",
    "\n",
    "    def print_name(self):\n",
    "        print('Grandfather name:', self.grandfathername)\n",
    "        print('Father name:', self.fathername)\n",
    "        print('Son name:', self.sonname)\n",
    "\n",
    "# Object instance\n",
    "s1 = Son('Gbenga', 'Abiodun', 'Adeoke')\n",
    "s1.print_name()\n"
   ]
  },
  {
   "cell_type": "markdown",
   "metadata": {},
   "source": [
    "#### Hierarchical Inheritance:\n",
    "<ul><li>When more than one derived classes are created from a single base this type of inheritance is called hierarchical inheritance.</li><li> In this program, we have a parent (base) class and two child (derived) classes.</li></ul>"
   ]
  },
  {
   "cell_type": "code",
   "execution_count": null,
   "metadata": {},
   "outputs": [
    {
     "name": "stdout",
     "output_type": "stream",
     "text": [
      "This function is in parent class.\n",
      "This function is in child 1.\n",
      "This function is in parent class.\n",
      "This function is in child 2.\n"
     ]
    }
   ],
   "source": [
    "# Python program to demonstrate hierarchical inheritance\n",
    "\n",
    "# Base class\n",
    "class Parent:\n",
    "    def func1(self):\n",
    "        print(\"This function is in parent class.\")\n",
    "\n",
    "# Derived class 1\n",
    "class Child1(Parent):\n",
    "    def func2(self):\n",
    "        print(\"This function is in child 1.\")\n",
    "\n",
    "# Derived class 2\n",
    "class Child2(Parent):\n",
    "    def func3(self):\n",
    "        print(\"This function is in child 2.\")\n",
    "\n",
    "# Object instantiation\n",
    "object1 = Child1()\n",
    "object2 = Child2()\n",
    "\n",
    "# Function calls\n",
    "object1.func1()\n",
    "object1.func2()\n",
    "\n",
    "object2.func1()\n",
    "object2.func3()\n"
   ]
  },
  {
   "cell_type": "markdown",
   "metadata": {},
   "source": [
    "#### Hybrid Inheritance:\n",
    "<ul><li>Inheritance consisting of multiple types of inheritance is called hybrid inheritance.</li></ul>"
   ]
  },
  {
   "cell_type": "code",
   "execution_count": null,
   "metadata": {},
   "outputs": [],
   "source": [
    "# Python program to demonstrate hybrid inheritance\n",
    "\n",
    "# Base class\n",
    "class School:\n",
    "    def func1(self):\n",
    "        print(\"This function is in School.\")\n",
    "\n",
    "# Derived class 1\n",
    "class Student1(School):\n",
    "    def func2(self):\n",
    "        print(\"This function is in Student 1.\")\n",
    "\n",
    "# Derived class 2\n",
    "class Student2(School):\n",
    "    def func3(self):\n",
    "        print(\"This function is in Student 2.\")\n",
    "\n",
    "# Hybrid class\n",
    "class Student3(Student1, Student2):\n",
    "    def func4(self):\n",
    "        print(\"This function is in Student 3.\")\n",
    "\n",
    "# Object instantiation\n",
    "obj = Student3()\n",
    "\n",
    "# Function calls\n",
    "obj.func1()  # From School via Student1\n",
    "obj.func2()  # From Student1\n",
    "obj.func3()  # From Student2\n",
    "obj.func4()  # From Student3\n"
   ]
  },
  {
   "cell_type": "markdown",
   "metadata": {},
   "source": [
    "# Polymorphism in Python"
   ]
  },
  {
   "cell_type": "markdown",
   "metadata": {},
   "source": [
    "<ul><li>In programming, Polymorphism is a concept of OOP.</li><li>The word polymorphism means having many forms.</li><li>\n",
    "    It enables using a single interface with the input of different data types, different classes or maybe for a different number of inputs.</li><li>Polymorphism means the same function name (but different signatures) being used for different types.</li></ul>"
   ]
  },
  {
   "cell_type": "markdown",
   "metadata": {},
   "source": [
    "### Inbuilt polymorphic functions"
   ]
  },
  {
   "cell_type": "code",
   "execution_count": null,
   "metadata": {},
   "outputs": [],
   "source": [
    "# Python program to demonstrate in-built polymorphic functions\n",
    "\n",
    "# len() being used for a string\n",
    "print(len(\"Department of Computer Science\"))  \n",
    "\n",
    "# len() being used for a list\n",
    "print(len([10, 20, 30, 40, 50, 60, 70]))       \n"
   ]
  },
  {
   "cell_type": "markdown",
   "metadata": {},
   "source": [
    "### User-defined polymorphic functions : "
   ]
  },
  {
   "cell_type": "code",
   "execution_count": null,
   "metadata": {},
   "outputs": [
    {
     "name": "stdout",
     "output_type": "stream",
     "text": [
      "5\n",
      "9\n",
      "16\n"
     ]
    }
   ],
   "source": [
    "# A simple Python function to demonstrate polymorphism using default arguments\n",
    "\n",
    "def add(x, y, z=0, w=0): \n",
    "    return x + y + z + w\n",
    "\n",
    "# Driver code\n",
    "print(add(2, 3))            \n",
    "print(add(2, 3, 4))         \n",
    "print(add(2, 3, 5, 6))      \n",
    "\n"
   ]
  },
  {
   "cell_type": "markdown",
   "metadata": {},
   "source": [
    "### Polymorphism with class methods: \n",
    "<ul><li>The code below shows how Python can use two different class types, in the same way.</li><li> We create a for loop that iterates through a tuple of objects. Then call the methods without being concerned about which class type each object is. We assume that these methods actually exist in each class.</li></ul> "
   ]
  },
  {
   "cell_type": "code",
   "execution_count": null,
   "metadata": {},
   "outputs": [
    {
     "name": "stdout",
     "output_type": "stream",
     "text": [
      "Lagos is the capital of Nigeria.\n",
      "English is the official language of Nigeria.\n",
      "Nigeria is the giant of Africa.\n",
      "Lome is the capital of Togo.\n",
      "French is the primary language of Togo.\n",
      "Togo is known for its palm-lined beaches and hilltop villages.\n"
     ]
    }
   ],
   "source": [
    "class Nigeria():\n",
    "    def capital(self):\n",
    "        print(\"Lagos is the capital of Nigeria.\")\n",
    "\n",
    "    def language(self):\n",
    "        print(\"English is the official language of Nigeria.\")\n",
    "\n",
    "    def type(self):\n",
    "        print(\"Nigeria is the giant of Africa.\")\n",
    "\n",
    "class Togo():\n",
    "    def capital(self):\n",
    "        print(\"Lome is the capital of Togo.\")\n",
    "\n",
    "    def language(self):\n",
    "        print(\"French is the primary language of Togo.\")\n",
    "\n",
    "    def type(self):\n",
    "        print(\"Togo is known for its palm-lined beaches and hilltop villages.\")\n",
    "\n",
    "obj_naija = Nigeria()\n",
    "obj_togo = Togo()\n",
    "\n",
    "for country in (obj_naija, obj_togo):\n",
    "    country.capital()\n",
    "    country.language()\n",
    "    country.type()\n"
   ]
  },
  {
   "cell_type": "markdown",
   "metadata": {},
   "source": [
    "### Polymorphism with Inheritance:\n",
    "<ul><li>In Python, Polymorphism lets us define methods in the child class that have the same name as the methods in the parent class. In inheritance, the child class inherits the methods from the parent class.</li><li> However, it is possible to modify a method in a child class that it has inherited from the parent class.</li><li> This is particularly useful in cases where the method inherited from the parent class doesn’t quite fit the child class. In such cases, we re-implement the method in the child class.</li><li> This process of re-implementing a method in the child class is known as <b>Method Overriding. </b> </li></ul>"
   ]
  },
  {
   "cell_type": "code",
   "execution_count": null,
   "metadata": {},
   "outputs": [],
   "source": [
    "class Bird:\n",
    "    def intro(self):\n",
    "        print(\"There are many types of birds.\")\n",
    "\n",
    "    def flight(self):\n",
    "        print(\"Most of the birds can fly but some cannot.\")\n",
    "\n",
    "class Sparrow(Bird):\n",
    "    def flight(self):\n",
    "        print(\"Sparrows can fly.\")\n",
    "\n",
    "class Ostrich(Bird):\n",
    "    def flight(self):\n",
    "        print(\"Ostriches cannot fly.\")\n",
    "\n",
    "# Object instantiation\n",
    "obj_bird = Bird()\n",
    "obj_spr = Sparrow()\n",
    "obj_ost = Ostrich()\n",
    "\n",
    "# Method calls\n",
    "obj_bird.intro()\n",
    "obj_bird.flight()\n",
    "\n",
    "obj_spr.intro()\n",
    "obj_spr.flight()\n",
    "\n",
    "obj_ost.intro()\n",
    "obj_ost.flight()\n",
    "\n"
   ]
  },
  {
   "cell_type": "markdown",
   "metadata": {},
   "source": [
    "# Class Project I"
   ]
  },
  {
   "cell_type": "markdown",
   "metadata": {},
   "source": [
    "Mary, Agatha and Noel work with Zenith Bank Nigeria. Mary works in the Retail Banking Division, Agatha works in the Global Banking Division and Noel works in the Commercial Banking Division. The three divisions have some unique services and some mutual services as indicated:\n",
    "\n",
    "#### Retail Banking:\n",
    "<ul><li>Lines of credit</li><li>\n",
    "Investment management and accounts</li><li>\n",
    "Insurance</li><li>\n",
    "Retirement and education accounts</li><li>\n",
    "    loans and mortgagges</li><li>\n",
    "    Checking and saving</li></ul>\n",
    "\n",
    "#### Global Banking:\n",
    "<ul><li>Multi-currency management services and products</li><li>\n",
    "Foreign currency accounts</li><li>\n",
    "Foreign currency credit cards</li><li>\n",
    "Transborder advisory services</li><li>\n",
    "Liquidity management</li></ul>\n",
    "\n",
    "#### Commercial Banking:\n",
    "<ul><li>Lines of credit</li><li>\n",
    "Investment management and accounts</li><li>\n",
    "Insurance</li><li>\n",
    "Advisory services</li></ul>\n",
    "\n",
    "With your knowledge in OOP develop a python GUI program that will take as input an employee name and division, and then displays the service rendered in the division. The program should highlght key concepts of OOP; class objects inheritance and polymorphism.\n",
    "\n",
    "#### Hints:\n",
    "<ul><li>Create parent class <b>zenith()</b> with two methods <b>unique_services()</b> and <b>mutual_services()</b></li><li>\n",
    "    The different divisions can be subclasses of the parent class, inheriting the parent methods.</li><li>\n",
    "    Ploymorphism can be used to overide exclusive services.</li><ul>"
   ]
  },
  {
   "cell_type": "code",
   "execution_count": null,
   "metadata": {},
   "outputs": [],
   "source": [
    "import tkinter as tk\n",
    "from tkinter import ttk, messagebox\n",
    "\n",
    "# Base class\n",
    "class Zenith:\n",
    "    def __init__(self, name):\n",
    "        self.name = name\n",
    "\n",
    "    def mutual_services(self):\n",
    "        return [\"Lines of credit\", \"Investment management and accounts\", \"Insurance\"]\n",
    "\n",
    "    def unique_services(self):\n",
    "        return []\n",
    "\n",
    "# Subclass for Retail Banking\n",
    "class Retail(Zenith):\n",
    "    def unique_services(self):\n",
    "        return [\n",
    "            \"Retirement and education accounts\",\n",
    "            \"Loans and mortgages\",\n",
    "            \"Checking and saving\"\n",
    "        ]\n",
    "\n",
    "# Subclass for Global Banking\n",
    "class Global(Zenith):\n",
    "    def mutual_services(self):\n",
    "        return []  # No mutual services with others\n",
    "\n",
    "    def unique_services(self):\n",
    "        return [\n",
    "            \"Multi-currency management services and products\",\n",
    "            \"Foreign currency accounts\",\n",
    "            \"Foreign currency credit cards\",\n",
    "            \"Transborder advisory services\",\n",
    "            \"Liquidity management\"\n",
    "        ]\n",
    "\n",
    "# Subclass for Commercial Banking\n",
    "class Commercial(Zenith):\n",
    "    def unique_services(self):\n",
    "        return [\"Advisory services\"]\n",
    "\n",
    "# GUI Application\n",
    "class ZenithApp:\n",
    "    def __init__(self, master):\n",
    "        self.master = master\n",
    "        master.title(\"Zenith Bank Division Services\")\n",
    "        master.geometry(\"500x400\")\n",
    "\n",
    "        # Employee name input\n",
    "        tk.Label(master, text=\"Employee Name:\").pack(pady=5)\n",
    "        self.name_entry = tk.Entry(master, width=30)\n",
    "        self.name_entry.pack()\n",
    "\n",
    "        # Division selection\n",
    "        tk.Label(master, text=\"Select Division:\").pack(pady=5)\n",
    "        self.division_var = tk.StringVar()\n",
    "        self.division_combo = ttk.Combobox(master, textvariable=self.division_var, state=\"readonly\")\n",
    "        self.division_combo['values'] = [\"Retail\", \"Global\", \"Commercial\"]\n",
    "        self.division_combo.pack()\n",
    "\n",
    "        # Submit button\n",
    "        tk.Button(master, text=\"Show Services\", command=self.show_services).pack(pady=10)\n",
    "\n",
    "        # Output display\n",
    "        self.output_box = tk.Text(master, height=12, width=60)\n",
    "        self.output_box.pack(pady=10)\n",
    "\n",
    "    def show_services(self):\n",
    "        name = self.name_entry.get().strip()\n",
    "        division = self.division_var.get()\n",
    "\n",
    "        if not name or not division:\n",
    "            messagebox.showerror(\"Input Error\", \"Please enter employee name and select division.\")\n",
    "            return\n",
    "\n",
    "        # Division logic\n",
    "        if division == \"Retail\":\n",
    "            employee = Retail(name)\n",
    "        elif division == \"Global\":\n",
    "            employee = Global(name)\n",
    "        elif division == \"Commercial\":\n",
    "            employee = Commercial(name)\n",
    "        else:\n",
    "            messagebox.showerror(\"Error\", \"Unknown division selected.\")\n",
    "            return\n",
    "\n",
    "        # Get services\n",
    "        mutual = employee.mutual_services()\n",
    "        unique = employee.unique_services()\n",
    "\n",
    "        # Display\n",
    "        self.output_box.delete(\"1.0\", tk.END)\n",
    "        self.output_box.insert(tk.END, f\"Employee: {name}\\nDivision: {division} Banking\\n\\n\")\n",
    "        if mutual:\n",
    "            self.output_box.insert(tk.END, \"Mutual Services:\\n\")\n",
    "            for service in mutual:\n",
    "                self.output_box.insert(tk.END, f\" - {service}\\n\")\n",
    "        if unique:\n",
    "            self.output_box.insert(tk.END, \"\\nExclusive Services:\\n\")\n",
    "            for service in unique:\n",
    "                self.output_box.insert(tk.END, f\" - {service}\\n\")\n",
    "\n",
    "# Run app\n",
    "if __name__ == \"__main__\":\n",
    "    root = tk.Tk()\n",
    "    app = ZenithApp(root)\n",
    "    root.mainloop()\n"
   ]
  }
 ],
 "metadata": {
  "kernelspec": {
   "display_name": "Python 3",
   "language": "python",
   "name": "python3"
  },
  "language_info": {
   "codemirror_mode": {
    "name": "ipython",
    "version": 3
   },
   "file_extension": ".py",
   "mimetype": "text/x-python",
   "name": "python",
   "nbconvert_exporter": "python",
   "pygments_lexer": "ipython3",
   "version": "3.13.2"
  }
 },
 "nbformat": 4,
 "nbformat_minor": 4
}
