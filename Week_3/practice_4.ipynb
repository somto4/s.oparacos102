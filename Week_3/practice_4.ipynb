{
 "cells": [
  {
   "cell_type": "code",
   "execution_count": null,
   "metadata": {},
   "outputs": [],
   "source": [
    "tuple = (\"Ekiti\", 750, 'Oshogbo' 250, \"Akure\", 500)\n",
    "s_tuple = (\"Abeokuta\", 300, \"Ogbomoso\")\n",
    "\n",
    "# Prints the compelete tuple\n",
    "print (tuple)\n",
    "\n",
    "# Prints last element of the tuple\n",
    "print (tuple[-1])\n",
    "\n",
    "#Print (tuple[2:4])\n",
    "\n",
    "#Prints elements of the tuple startong from 3rd element\n",
    "print (tuple[3:])\n",
    "\n",
    "#Prints the contents of the tuple twice\n",
    "print (s_tuple * 3)\n",
    "\n",
    "#Prints concatenated tuples\n",
    "print (tuple + s_tuple)"
   ]
  }
 ],
 "metadata": {
  "language_info": {
   "name": "python"
  }
 },
 "nbformat": 4,
 "nbformat_minor": 2
}
